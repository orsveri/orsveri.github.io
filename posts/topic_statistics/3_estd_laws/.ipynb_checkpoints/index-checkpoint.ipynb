{
 "cells": [
  {
   "cell_type": "raw",
   "id": "1e00c4da-1ec9-4402-a28b-6ad4b241b3a8",
   "metadata": {},
   "source": [
    "---\n",
    "title: \"Expected value, sampling distribution, the central limit theorem\"\n",
    "subtitle: \"Statistics notes - part 3\"\n",
    "\n",
    "title-block-banner: \"image.jpg\"\n",
    "author: \"orsveri\"\n",
    "date: \"2023-03-19\"\n",
    "categories: [statistics]\n",
    "image: \"image.jpg\"\n",
    "\n",
    "format: \n",
    "  html:\n",
    "    code-fold: true\n",
    "jupyter: python3\n",
    "\n",
    "toc: true\n",
    "toc-depth: 2\n",
    "toc-title: On this page\n",
    "---"
   ]
  },
  {
   "cell_type": "markdown",
   "id": "8776c2d1-722b-4e14-8b78-4b3f50f45bd4",
   "metadata": {},
   "source": [
    "::: {.callout-note appearance=\"simple\"}\n",
    "\n",
    "## About this series\n",
    "\n",
    "This is an article from the series about statistics (and probability theory). The motivation behind this series is to retain knowledge while taking courses, reading books and articles. I write articles about something that I missed before, found interesting or possibly useful to me in the future. These articles do not constitute a course, they are just a collection of my personal study notes or summaries on different topics related to statistics.\n",
    ":::\n",
    "\n",
    "## Expected value\n",
    "\n",
    "In simple terms, the expected value is the average value that we expect to get if we repeat a random process many times. It is a measure of the central tendency of a random variable. So, to calculate expected value, we need to understand what is a random variable in our case.\n",
    "\n",
    "**Notation**\n",
    "\n",
    "* Random variable: $X$\n",
    "* Expected value of $X$: $E[X]$ (as functional), $E(X)$ (as function) or $EX$. "
   ]
  },
  {
   "cell_type": "code",
   "execution_count": 13,
   "id": "10cc146f-a129-43f7-8978-bde776c623a2",
   "metadata": {},
   "outputs": [
    {
     "data": {
      "text/markdown": [
       "----------------------------------------------------------------------------------------------------------------------------------------------------------------------  ---------------------------------------------  ---------------------------------------------------  ----------------------------------------\n",
       "Binomial                                                                                                                                                                Multinomial                                    Continuous                                           Arbitrary\n",
       "$EX = P(x) * X$                                                                                                                                                         $EX = \\displaystyle\\sum_{i}^{N} P(x_i) * x_i$  $EX = \\displaystyle\\int_{-\\infty}^\\infty x f(x) dx$  $EX = \\displaystyle\\sum_{i} g(x) * f(x)$\n",
       "If probability of winning a lottery (getting a prize) is $0.1$, and you buy $20$ tickets, then the expected value (number of prizes) is $0.1*20 = 2$, i.e. $2$ prizes.  blabla                                         blabla                                               blabla\n",
       "----------------------------------------------------------------------------------------------------------------------------------------------------------------------  ---------------------------------------------  ---------------------------------------------------  ----------------------------------------"
      ],
      "text/plain": [
       "<IPython.core.display.Markdown object>"
      ]
     },
     "execution_count": 13,
     "metadata": {},
     "output_type": "execute_result"
    }
   ],
   "source": [
    "#| label: tab-ev\n",
    "#| tbl-cap: Expected value formulas\n",
    "#| tbl-colwidths: [25,25,25,25]\n",
    "#| echo: false\n",
    "\n",
    "from IPython.display import Markdown\n",
    "from tabulate import tabulate\n",
    "table = [\n",
    "    [\"Binomial\", \"Multinomial\", \"Continuous\", \"Arbitrary\"],\n",
    "    [\n",
    "        \"$EX = P(x) * X$\",\n",
    "        \"$EX = \\displaystyle\\sum_{i}^{N} P(x_i) * x_i$\",\n",
    "        \"$EX = \\displaystyle\\int_{-\\infty}^\\infty x f(x) dx$\",\n",
    "        \"$EX = \\displaystyle\\sum_{i} g(x) * f(x)$\"\n",
    "    ],\n",
    "    [\n",
    "        \"If probability of winning a lottery (getting a prize) is $0.1$, and you buy $20$ tickets, then the expected value (number of prizes) is $0.1*20 = 2$, i.e. $2$ prizes.\",\n",
    "        \"The probability of rolling 1 on a 6-sided dice is 1/6, rolling 2 or 3 is 2/6 and rolling anything else is 3/6. Then \",\n",
    "        \"blabla\",\n",
    "        \"blabla\",\n",
    "    ],\n",
    "]\n",
    "Markdown(tabulate(\n",
    "  table,\n",
    "))"
   ]
  },
  {
   "cell_type": "code",
   "execution_count": null,
   "id": "a19fe16e-9549-4718-b896-4c1d1be07ca6",
   "metadata": {},
   "outputs": [],
   "source": []
  }
 ],
 "metadata": {
  "kernelspec": {
   "display_name": "Python 3 (ipykernel)",
   "language": "python",
   "name": "python3"
  },
  "language_info": {
   "codemirror_mode": {
    "name": "ipython",
    "version": 3
   },
   "file_extension": ".py",
   "mimetype": "text/x-python",
   "name": "python",
   "nbconvert_exporter": "python",
   "pygments_lexer": "ipython3",
   "version": "3.11.0"
  }
 },
 "nbformat": 4,
 "nbformat_minor": 5
}

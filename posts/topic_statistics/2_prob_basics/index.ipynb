{
 "cells": [
  {
   "cell_type": "raw",
   "id": "1e00c4da-1ec9-4402-a28b-6ad4b241b3a8",
   "metadata": {},
   "source": [
    "---\n",
    "title: \"Probability theory basics\"\n",
    "subtitle: \"Statistics notes - part 2\"\n",
    "\n",
    "title-block-banner: \"prob_basics_banner.jpg\"\n",
    "author: \"orsveri\"\n",
    "date: \"2023-03-09\"\n",
    "categories: [statistics, probability theory]\n",
    "image: \"image.jpg\"\n",
    "\n",
    "format: \n",
    "  html:\n",
    "    code-fold: true\n",
    "jupyter: python3\n",
    "\n",
    "toc: true\n",
    "toc-depth: 2\n",
    "toc-title: On this page\n",
    "---"
   ]
  },
  {
   "cell_type": "markdown",
   "id": "8776c2d1-722b-4e14-8b78-4b3f50f45bd4",
   "metadata": {},
   "source": [
    "::: {.callout-note appearance=\"simple\"}\n",
    "\n",
    "## About this series\n",
    "\n",
    "This is an article from the series about statistics (and probability theory). The motivation behind this series is to retain knowledge while taking courses, reading books and articles. I write articles about something that I missed before, found interesting or possibly useful to me in the future. These articles do not constitute a course, they are just a collection of my personal study notes or summaries on different topics related to statistics.\n",
    ":::"
   ]
  },
  {
   "cell_type": "markdown",
   "id": "0436f2c6-77ef-43db-b963-03fa73461343",
   "metadata": {},
   "source": [
    "## Outcomes and events\n",
    "\n",
    "TODO"
   ]
  },
  {
   "cell_type": "markdown",
   "id": "12e0434c-5b9c-4f14-b492-aa5e94049901",
   "metadata": {},
   "source": [
    "## Random variables\n",
    "\n",
    "**Random variable**, also known as **stochastic variable**, describes the numerical outcome of a random experiment or phenomenon. It encompasses all possible outcomes in some form. Random variables can be divided into two categories:\n",
    "\n",
    "* **discrete** random variable - can take on a finite number of distinct values, probability distribution function is defined as ***probability mass function***. Example: the number of kids in a family.\n",
    "* **continuous** random variable - can take on an infinite number of possible values (from an interval), probability distribution function is defined as ***probability density function***. Example: the weight of a potato."
   ]
  },
  {
   "cell_type": "markdown",
   "id": "c8492fe0-ac7f-430a-862d-69efa49af561",
   "metadata": {},
   "source": [
    "## Probability distribution \n",
    "\n",
    "TODO\n",
    "\n",
    "### Discrete distributions\n",
    "\n",
    "todo\n",
    "\n",
    "### Continuous distributions\n",
    "\n",
    "todo"
   ]
  },
  {
   "cell_type": "markdown",
   "id": "2236dbb4-de9e-4fdd-8146-7ed410423100",
   "metadata": {},
   "source": [
    "## Probability spaces\n",
    "\n",
    "TODO"
   ]
  }
 ],
 "metadata": {
  "kernelspec": {
   "display_name": "Python 3 (ipykernel)",
   "language": "python",
   "name": "python3"
  },
  "language_info": {
   "codemirror_mode": {
    "name": "ipython",
    "version": 3
   },
   "file_extension": ".py",
   "mimetype": "text/x-python",
   "name": "python",
   "nbconvert_exporter": "python",
   "pygments_lexer": "ipython3",
   "version": "3.11.0"
  }
 },
 "nbformat": 4,
 "nbformat_minor": 5
}
